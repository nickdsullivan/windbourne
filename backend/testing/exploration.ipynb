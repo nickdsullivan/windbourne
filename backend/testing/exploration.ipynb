{
 "cells": [
  {
   "cell_type": "code",
   "execution_count": 14,
   "metadata": {},
   "outputs": [],
   "source": [
    "import urllib.request, json \n",
    "import numpy as np\n",
    "import cv2\n",
    "import math\n",
    "# with urllib.request.urlopen(\"https://a.windbornesystems.com/treasure/00.json\") as url:\n",
    "#     data = json.load(url)\n",
    "# data = np.array(data)"
   ]
  },
  {
   "cell_type": "markdown",
   "metadata": {},
   "source": [
    "# Exploration\n",
    "Looking at the means of the data can give us an idea of what it actually is.  Since you told us they are locations, I will start by assuming they are latitudes and longitudes.  "
   ]
  },
  {
   "cell_type": "markdown",
   "metadata": {},
   "source": [
    "Let's try mapping these locations on a map.  "
   ]
  },
  {
   "cell_type": "code",
   "execution_count": 3,
   "metadata": {},
   "outputs": [
    {
     "data": {
      "text/plain": [
       "array([nan, nan, nan])"
      ]
     },
     "execution_count": 3,
     "metadata": {},
     "output_type": "execute_result"
    }
   ],
   "source": [
    "data.mean(axis=0)"
   ]
  },
  {
   "cell_type": "markdown",
   "metadata": {},
   "source": [
    "The first two indexes' means are around 0 mean they are the lat long while the 3rd element is positive suggesting it is height.  "
   ]
  },
  {
   "cell_type": "code",
   "execution_count": null,
   "metadata": {},
   "outputs": [],
   "source": [
    "\n",
    "\n"
   ]
  },
  {
   "cell_type": "code",
   "execution_count": 15,
   "metadata": {},
   "outputs": [],
   "source": [
    "def loc2pixels(location, zoom):\n",
    "    lat = location[0]\n",
    "    long = location[1]\n",
    "    lat_rad = math.radians(lat)\n",
    "    map_size = 256 * 2**zoom\n",
    "    x = math.floor((long + 180) / 360 * map_size)\n",
    "    y = math.floor((1 - math.log(math.tan(lat_rad) + 1 / math.cos(lat_rad)) / math.pi) / 2 * map_size)\n",
    "    return x, y\n",
    "\n",
    "\n",
    "\n"
   ]
  },
  {
   "cell_type": "code",
   "execution_count": 37,
   "metadata": {},
   "outputs": [],
   "source": [
    "def pin(image, location, alpha):\n",
    "    color = (0, 0, 255)\n",
    "    radius = 5\n",
    "    thickness = -1  \n",
    "    overlay = image.copy()\n",
    "    cv2.circle(overlay, location, radius, color, thickness)\n",
    "    return cv2.addWeighted(overlay, alpha, image, 1 - alpha, 0)\n",
    "    "
   ]
  },
  {
   "cell_type": "markdown",
   "metadata": {},
   "source": [
    "# Retrieving data\n",
    "\n",
    "The \"ill\" formated jsons just don't have a starting bracket so formatting them is easy.\n",
    "\n",
    "The first try is to see if the url is valid\n",
    "The second is to check if the data is formatted correctly\n",
    "\n",
    "This is still exploration so I won't clean it up but in the main code it will be cleaned up more."
   ]
  },
  {
   "cell_type": "code",
   "execution_count": null,
   "metadata": {},
   "outputs": [],
   "source": [
    "def get_data(day):\n",
    "    if day < 10 and day >= 0:\n",
    "        url = f\"https://a.windbornesystems.com/treasure/0{day}.json\"\n",
    "    elif day < 24:\n",
    "        url = f\"https://a.windbornesystems.com/treasure/{day}.json\"\n",
    "    else:\n",
    "        raise IndexError\n",
    "    \n",
    "    try:\n",
    "        with urllib.request.urlopen(url) as response:\n",
    "            raw_data = response.read().decode(\"utf-8\", errors=\"ignore\")\n",
    "            if raw_data[0] != \"[\":\n",
    "                raw_data = \"[\" + raw_data \n",
    "            try:\n",
    "                 data = json.loads(raw_data)\n",
    "            except:\n",
    "                # This was for looking at the bad data\n",
    "\n",
    "                # with open(f\"day_{day}.txt\", \"wb\") as f:\n",
    "                #     f.write(raw_data)\n",
    "                # print(response)\n",
    "                # print(raw_data)\n",
    "                print(f\"({day}) Invalid JSON{url}\")\n",
    "                return None\n",
    "    except Exception as e:\n",
    "        print(f\"({day}) {e}\")\n",
    "        return None\n",
    "    print(f\"({day}) Succeeded\")\n",
    "    return np.array(data)"
   ]
  },
  {
   "cell_type": "code",
   "execution_count": 12,
   "metadata": {},
   "outputs": [
    {
     "name": "stdout",
     "output_type": "stream",
     "text": [
      "(0) Succeeded\n",
      "(1) Succeeded\n",
      "(2) Succeeded\n",
      "(3) Succeeded\n",
      "(4) Succeeded\n",
      "(5) HTTP Error 404: Not Found\n",
      "(6) Succeeded\n",
      "(7) Succeeded\n",
      "(8) Succeeded\n",
      "(9) Succeeded\n",
      "(10) HTTP Error 404: Not Found\n",
      "(11) Succeeded\n",
      "(12) HTTP Error 404: Not Found\n",
      "(13) Succeeded\n",
      "(14) HTTP Error 404: Not Found\n",
      "(15) HTTP Error 404: Not Found\n",
      "(16) HTTP Error 404: Not Found\n",
      "(17) Succeeded\n",
      "(18) HTTP Error 404: Not Found\n",
      "(19) Succeeded\n",
      "(20) HTTP Error 404: Not Found\n",
      "(21) HTTP Error 404: Not Found\n",
      "(22) Succeeded\n",
      "(23) HTTP Error 404: Not Found\n"
     ]
    }
   ],
   "source": [
    "datas = []\n",
    "for day in range(24):\n",
    "    datas.append(get_data(day))\n"
   ]
  },
  {
   "cell_type": "code",
   "execution_count": 26,
   "metadata": {},
   "outputs": [],
   "source": [
    "image = cv2.imread(\"map.jpg\")\n",
    "zoom = math.log2(image.shape[1]/256)\n",
    "historical_data = np.zeros((24, 1000, 3))\n",
    "invalid_days = []\n",
    "for day in range(24):\n",
    "    data = datas[day]\n",
    "    if data is None:\n",
    "        invalid_days.append(day)\n",
    "        continue\n",
    "    for satellite_num in range(data.shape[0]):\n",
    "        location = data[satellite_num]\n",
    "        if np.isnan(location[0]) or np.isnan(location[1]):\n",
    "            continue\n",
    "        point = loc2pixels((location[0], location[1]), zoom)\n",
    "        historical_data[day][satellite_num] = point[0], point[1], location[2]\n"
   ]
  },
  {
   "cell_type": "code",
   "execution_count": 63,
   "metadata": {},
   "outputs": [
    {
     "name": "stdout",
     "output_type": "stream",
     "text": [
      "0\n",
      "1\n",
      "2\n",
      "3\n",
      "4\n",
      "6\n",
      "7\n",
      "8\n",
      "9\n",
      "11\n",
      "13\n",
      "17\n",
      "19\n",
      "22\n"
     ]
    }
   ],
   "source": [
    "\n",
    "filepath = \"gif/\"\n",
    "filenames = []\n",
    "count = 0\n",
    "for max_day in range(24):\n",
    "    filename = filepath + str(max_day)\n",
    "    if max_day in invalid_days:\n",
    "        continue\n",
    "    image = cv2.imread(\"map.jpg\")\n",
    "    result = image.copy()\n",
    "    print(max_day)\n",
    "    for day in range(max_day+1):\n",
    "        if day in invalid_days:\n",
    "            continue\n",
    "        for satellite_num in range(1000):\n",
    "            location = int(historical_data[day][satellite_num][0]), int(historical_data[day][satellite_num][1])\n",
    "            alpha = math.exp(-.2*(max_day-day)) # Exponential decay because it was getting too confusing\n",
    "            result = pin(result, location, alpha) \n",
    "    cv2.imwrite(f\"{filename}.png\", result) \n",
    "            "
   ]
  },
  {
   "cell_type": "code",
   "execution_count": 61,
   "metadata": {},
   "outputs": [
    {
     "name": "stderr",
     "output_type": "stream",
     "text": [
      "/var/folders/0p/q7n443n563d5v8gs7ft242tw0000gn/T/ipykernel_97204/2707566019.py:5: DeprecationWarning: Starting with ImageIO v3 the behavior of this function will switch to that of iio.v3.imread. To keep the current behavior (and make this warning disappear) use `import imageio.v2 as imageio` or call `imageio.v2.imread` directly.\n",
      "  images.append(imageio.imread(filepath + filename))\n"
     ]
    }
   ],
   "source": [
    "import imageio\n",
    "images = []\n",
    "filenames.sort(key=lambda x: int(x.split('.')[0]))\n",
    "for filename in filenames:\n",
    "    images.append(imageio.imread(filepath + filename))\n",
    "\n",
    "imageio.mimsave(\"movie.gif\", images, duration = 0.1)"
   ]
  },
  {
   "cell_type": "markdown",
   "metadata": {},
   "source": [
    "# Final Thoughts\n",
    "This was a good exploration of the data.\n",
    "\n",
    "I think the bulk of my project will be estimating the missing data and day ahead data.  We can do this by taking wind data from a different source and then do some estimation from there.\n",
    "\n",
    "\n",
    "I didn't use the height of the balloons in this exploration but it is as simple as changing the color of the dot.  "
   ]
  },
  {
   "cell_type": "code",
   "execution_count": null,
   "metadata": {},
   "outputs": [
    {
     "data": {
      "text/plain": [
       "['0.png',\n",
       " '1.png',\n",
       " '2.png',\n",
       " '3.png',\n",
       " '4.png',\n",
       " '6.png',\n",
       " '7.png',\n",
       " '8.png',\n",
       " '9.png',\n",
       " '11.png',\n",
       " '13.png',\n",
       " '17.png',\n",
       " '19.png',\n",
       " '22.png']"
      ]
     },
     "execution_count": 62,
     "metadata": {},
     "output_type": "execute_result"
    }
   ],
   "source": []
  },
  {
   "cell_type": "markdown",
   "metadata": {},
   "source": []
  }
 ],
 "metadata": {
  "kernelspec": {
   "display_name": ".venv",
   "language": "python",
   "name": "python3"
  },
  "language_info": {
   "codemirror_mode": {
    "name": "ipython",
    "version": 3
   },
   "file_extension": ".py",
   "mimetype": "text/x-python",
   "name": "python",
   "nbconvert_exporter": "python",
   "pygments_lexer": "ipython3",
   "version": "3.13.1"
  }
 },
 "nbformat": 4,
 "nbformat_minor": 2
}
